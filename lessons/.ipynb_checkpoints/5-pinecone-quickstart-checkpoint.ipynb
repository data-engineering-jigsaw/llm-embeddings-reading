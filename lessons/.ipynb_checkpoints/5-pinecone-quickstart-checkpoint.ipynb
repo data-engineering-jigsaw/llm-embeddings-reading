{
 "cells": [
  {
   "cell_type": "code",
   "execution_count": null,
   "id": "cd95b261-869f-46b4-98c6-89832567f2ea",
   "metadata": {},
   "outputs": [],
   "source": []
  },
  {
   "cell_type": "markdown",
   "id": "ef4605a5-de3e-4fb2-8c5e-237544efe931",
   "metadata": {},
   "source": [
    "\n",
    "[Pinecone quickstart](https://docs.pinecone.io/docs/quickstart)"
   ]
  },
  {
   "cell_type": "code",
   "execution_count": null,
   "id": "02fe6f64-cb5e-49c9-9b96-8099e0365e6c",
   "metadata": {},
   "outputs": [],
   "source": []
  }
 ],
 "metadata": {
  "kernelspec": {
   "display_name": "Python 3 (ipykernel)",
   "language": "python",
   "name": "python3"
  },
  "language_info": {
   "codemirror_mode": {
    "name": "ipython",
    "version": 3
   },
   "file_extension": ".py",
   "mimetype": "text/x-python",
   "name": "python",
   "nbconvert_exporter": "python",
   "pygments_lexer": "ipython3",
   "version": "3.10.13"
  }
 },
 "nbformat": 4,
 "nbformat_minor": 5
}
