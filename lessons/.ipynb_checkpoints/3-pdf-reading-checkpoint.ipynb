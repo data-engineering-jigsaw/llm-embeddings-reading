{
 "cells": [
  {
   "cell_type": "code",
   "execution_count": null,
   "id": "386dbfdd-85f5-48f3-baec-205acaed1396",
   "metadata": {},
   "outputs": [],
   "source": []
  },
  {
   "cell_type": "markdown",
   "id": "4913bfa4-e7c4-4f5a-9ef0-8fd773bd357f",
   "metadata": {},
   "source": []
  },
  {
   "cell_type": "markdown",
   "id": "f9f7bac1-4c73-483c-9dc5-f088a0d1592f",
   "metadata": {},
   "source": [
    "* PDFQuery, PDFMiner"
   ]
  },
  {
   "cell_type": "code",
   "execution_count": null,
   "id": "2e7919cb-4a0c-48f2-a3df-9d3d0d69ab86",
   "metadata": {},
   "outputs": [],
   "source": []
  }
 ],
 "metadata": {
  "kernelspec": {
   "display_name": "Python 3 (ipykernel)",
   "language": "python",
   "name": "python3"
  },
  "language_info": {
   "codemirror_mode": {
    "name": "ipython",
    "version": 3
   },
   "file_extension": ".py",
   "mimetype": "text/x-python",
   "name": "python",
   "nbconvert_exporter": "python",
   "pygments_lexer": "ipython3",
   "version": "3.10.13"
  }
 },
 "nbformat": 4,
 "nbformat_minor": 5
}
